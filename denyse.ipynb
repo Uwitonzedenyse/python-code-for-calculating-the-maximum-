{
 "cells": [
  {
   "cell_type": "markdown",
   "id": "fcd54170",
   "metadata": {},
   "source": [
    "Write a function called \"max\" that takes 3 arguments and return the maximun value."
   ]
  },
  {
   "cell_type": "code",
   "execution_count": null,
   "id": "db43c2b0",
   "metadata": {},
   "outputs": [],
   "source": [
    "def max1(a,b,c):\n",
    "    if a>b and a>c:\n",
    "        return a\n",
    "    elif b>a and b>c:\n",
    "        return b\n",
    "    else:\n",
    "        return c\n",
    "max1(3,10,2)"
   ]
  },
  {
   "cell_type": "markdown",
   "id": "c2da2b6c",
   "metadata": {},
   "source": [
    "Write a list comprehension which solves the equation 𝑦=𝑥2+1\n",
    "\n",
    ". Your solution should print out a list of [x, y] pairs; use the domain x ∈ [−5, 5] and the range y ∈ [0, 10].\n"
   ]
  },
  {
   "cell_type": "code",
   "execution_count": null,
   "id": "fd37c3af",
   "metadata": {},
   "outputs": [],
   "source": [
    "k=[[x,y] for x in range(-5,6) for y in range(0,11) if y==x**2+1]\n",
    "print(k)"
   ]
  }
 ],
 "metadata": {
  "kernelspec": {
   "display_name": "Python 3",
   "language": "python",
   "name": "python3"
  },
  "language_info": {
   "codemirror_mode": {
    "name": "ipython",
    "version": 3
   },
   "file_extension": ".py",
   "mimetype": "text/x-python",
   "name": "python",
   "nbconvert_exporter": "python",
   "pygments_lexer": "ipython3",
   "version": "3.9.2"
  }
 },
 "nbformat": 4,
 "nbformat_minor": 5
}
